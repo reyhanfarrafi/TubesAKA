{
  "nbformat": 4,
  "nbformat_minor": 0,
  "metadata": {
    "colab": {
      "name": "TuBesAKA_1301190356.ipynb",
      "provenance": [],
      "collapsed_sections": [
        "TXzINBN25Mc_",
        "S4JZCsnSP0y4",
        "uFMOi7UuRp1r"
      ]
    },
    "kernelspec": {
      "name": "python3",
      "display_name": "Python 3"
    }
  },
  "cells": [
    {
      "cell_type": "markdown",
      "metadata": {
        "id": "TXzINBN25Mc_"
      },
      "source": [
        "# Tugas Besar Analisis Kompleksitas Algoritma"
      ]
    },
    {
      "cell_type": "markdown",
      "metadata": {
        "id": "s3ACDZfzQcOz"
      },
      "source": [
        "Judul : Perbandingan Running Time antara Comb Sort dengan Bubble Sort\n",
        "\n",
        "> Reyhan Fadhlurohman Arrafi (1301190356)"
      ]
    },
    {
      "cell_type": "markdown",
      "metadata": {
        "id": "mLajerzyRbaR"
      },
      "source": [
        "Dosen pengampu: Ema Rachmawati"
      ]
    },
    {
      "cell_type": "markdown",
      "metadata": {
        "id": "S4JZCsnSP0y4"
      },
      "source": [
        "# Bubble Sort"
      ]
    },
    {
      "cell_type": "code",
      "metadata": {
        "colab": {
          "base_uri": "https://localhost:8080/"
        },
        "id": "4tzeEkH44OJP",
        "outputId": "34c207c2-dc9f-4ac2-9f0d-f606cc60dff8"
      },
      "source": [
        "def bubbleSort(nlist):\n",
        "  i = 0\n",
        "  while i < len(nlist):\n",
        "    j = 0 ;\n",
        "    while j < i :\n",
        "      if nlist[i] < nlist[j]: \n",
        "        temp = nlist[i]\n",
        "        nlist[i] = nlist[j]\n",
        "        nlist[j] = temp\n",
        "      j = j+1\n",
        "    i = i+1\n",
        "\n",
        "#bestCase\n",
        "nlist = [1,2,3,4,5]\n",
        "bubbleSort(nlist)\n",
        "print(nlist)\n",
        "\n",
        "#worstCase\n",
        "nlist = [5,4,3,2,1]\n",
        "bubbleSort(nlist)\n",
        "print(nlist)\n",
        "\n",
        "#averagecase\n",
        "nlist = [3,5,4,1,2]\n",
        "bubbleSort(nlist)\n",
        "print(nlist)\n"
      ],
      "execution_count": null,
      "outputs": [
        {
          "output_type": "stream",
          "text": [
            "[1, 2, 3, 4, 5]\n",
            "[1, 2, 3, 4, 5]\n",
            "[1, 2, 3, 4, 5]\n"
          ],
          "name": "stdout"
        }
      ]
    },
    {
      "cell_type": "markdown",
      "metadata": {
        "id": "T5qofMtCfFXn"
      },
      "source": [
        ""
      ]
    },
    {
      "cell_type": "markdown",
      "metadata": {
        "id": "uFMOi7UuRp1r"
      },
      "source": [
        "# Comb Sort"
      ]
    },
    {
      "cell_type": "code",
      "metadata": {
        "colab": {
          "base_uri": "https://localhost:8080/"
        },
        "id": "GRFoIB7-P-99",
        "outputId": "a4f8041b-2f48-4615-816a-e94cda8e49ba"
      },
      "source": [
        "def combSort(nlist):\n",
        "    gap = len(nlist)\n",
        "    swaps = True\n",
        "    while gap > 1 or swaps:\n",
        "        gap = max(1, int(gap / 1.25))\n",
        "        swaps = False\n",
        "        for i in range(len(nlist) - gap):\n",
        "            j = i+gap\n",
        "            if nlist[i] > nlist[j]:\n",
        "                nlist[i], nlist[j] = nlist[j], nlist[i]\n",
        "                swaps = True\n",
        " \n",
        "#bestCase\n",
        "nlist = [1,2,3,4,5]\n",
        "combSort(nlist)\n",
        "print(nlist)\n",
        "\n",
        "#worstCase\n",
        "nlist = [5,4,3,2,1]\n",
        "combSort(nlist)\n",
        "print(nlist)\n",
        "\n",
        "#averagecase\n",
        "nlist = [3,5,4,1,2]\n",
        "combSort(nlist)\n",
        "print(nlist)\n"
      ],
      "execution_count": null,
      "outputs": [
        {
          "output_type": "stream",
          "text": [
            "[1, 2, 3, 4, 5]\n",
            "[1, 2, 3, 4, 5]\n",
            "[1, 2, 3, 4, 5]\n"
          ],
          "name": "stdout"
        }
      ]
    },
    {
      "cell_type": "markdown",
      "metadata": {
        "id": "jYX8_O4rfH5I"
      },
      "source": [
        "# Visualisasi running time bubble sort"
      ]
    },
    {
      "cell_type": "code",
      "metadata": {
        "id": "qNfMIwpNfORp"
      },
      "source": [
        "from matplotlib import pyplot as plt"
      ],
      "execution_count": null,
      "outputs": []
    },
    {
      "cell_type": "code",
      "metadata": {
        "colab": {
          "base_uri": "https://localhost:8080/"
        },
        "id": "581wptZSfe4m",
        "outputId": "ebcbe8a9-7c2d-42b0-ca39-3cc8c37e3dbe"
      },
      "source": [
        "plt.xlim(0,100000)\n",
        "\n",
        "x1 = [10,100,1000,10000,100000]\n",
        "y1 = [45,4950,499500,49995000,4999950000]\n",
        "plt.plot(x1, y1, label='worst case dan average case')\n",
        "\n",
        "x2 = [10,100,1000,10000,100000]\n",
        "y2 = [9,99,999,9999,99999]\n",
        "plt.plot(x2, y2, label='best case')\n",
        "\n",
        "plt.xlabel('input size')\n",
        "plt.ylabel('running time')\n",
        "plt.legend()"
      ],
      "execution_count": null,
      "outputs": [
        {
          "output_type": "execute_result",
          "data": {
            "text/plain": [
              "<matplotlib.legend.Legend at 0x7eff36965eb8>"
            ]
          },
          "metadata": {
            "tags": []
          },
          "execution_count": 36
        },
        {
          "output_type": "display_data",
          "data": {
            "image/png": "[encoded data removed]",
            "text/plain": [
              "<Figure size 432x288 with 1 Axes>"
            ]
          },
          "metadata": {
            "tags": [],
            "needs_background": "light"
          }
        }
      ]
    },
    {
      "cell_type": "markdown",
      "metadata": {
        "id": "GD0w2V2SD2I8"
      },
      "source": [
        "# Visualisasi running time comb sort"
      ]
    },
    {
      "cell_type": "code",
      "metadata": {
        "id": "QdmyO-hpYBaI"
      },
      "source": [
        "from matplotlib import pyplot as plt"
      ],
      "execution_count": null,
      "outputs": []
    },
    {
      "cell_type": "code",
      "metadata": {
        "colab": {
          "base_uri": "https://localhost:8080/",
          "height": 307
        },
        "id": "ZbX5P_oCD9cQ",
        "outputId": "317b16d3-a533-4c50-9be5-07af1132b729"
      },
      "source": [
        "plt.xlim(0.0,100000.0)\n",
        "\n",
        "x1 = [10.0,100.0,1000.0,10000.0,100000.0]\n",
        "y1 = [3.6,48.51,498.501,4998.5001,49998.50001]\n",
        "plt.plot(x1, y1, label='average case')\n",
        "\n",
        "x2 = [10.0,100.0,1000.0,10000.0,100000.0]\n",
        "y2 = [36.0,4851.0,498501.0,49985001.0,4999850001.0]\n",
        "plt.plot(x2, y2, label='worst case')\n",
        "\n",
        "x3 = [10.0,100.0,1000.0,10000.0,100000.0]\n",
        "y3 = [9.0,99.0,999.0,9999.0,99999.0]\n",
        "plt.plot(x3, y3, label='best case')\n",
        "\n",
        "plt.xlabel('input size')\n",
        "plt.ylabel('running time')\n",
        "plt.legend()"
      ],
      "execution_count": null,
      "outputs": [
        {
          "output_type": "execute_result",
          "data": {
            "text/plain": [
              "<matplotlib.legend.Legend at 0x7eff36453048>"
            ]
          },
          "metadata": {
            "tags": []
          },
          "execution_count": 47
        },
        {
          "output_type": "display_data",
          "data": {
            "image/png": "[encoded data removed]",
            "text/plain": [
              "<Figure size 432x288 with 1 Axes>"
            ]
          },
          "metadata": {
            "tags": [],
            "needs_background": "light"
          }
        }
      ]
    }
  ]
}